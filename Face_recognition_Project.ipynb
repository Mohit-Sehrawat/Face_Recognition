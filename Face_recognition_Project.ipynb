{
 "cells": [
  {
   "cell_type": "code",
   "execution_count": 9,
   "source": [
    "import cv2\r\n",
    "import numpy as np\r\n",
    "import os\r\n",
    "\r\n",
    "cap=cv2.VideoCapture(0)\r\n",
    "\r\n",
    "detector=cv2.CascadeClassifier('haarcascade_frontalface_alt.xml')\r\n",
    "\r\n",
    "name=input(\"Enter your name : \")\r\n",
    "\r\n",
    "frames=[]\r\n",
    "output=[]\r\n",
    "\r\n",
    "while True:\r\n",
    "    ret,frame=cap.read()\r\n",
    "\r\n",
    "    if ret:\r\n",
    "        faces=detector.detectMultiScale(frame)\r\n",
    "        # For getting Region of intrest\r\n",
    "        for face in faces:\r\n",
    "            x,y,w,h=face\r\n",
    "\r\n",
    "            cut=frame[y:y+h, x:x+h]\r\n",
    "            fix=cv2.resize(cut,(100,100))\r\n",
    "            #converted into gray because when it's in RGB it has 3 layers so size is big , then converted in 1 layer as we have to store in numpy array\r\n",
    "            gray=cv2.cvtColor(fix,cv2.COLOR_BGR2GRAY)\r\n",
    "\r\n",
    "\r\n",
    "\r\n",
    "        cv2.imshow(\"My Screen\",frame)\r\n",
    "        cv2.imshow(\"My Roi\",gray)\r\n",
    "\r\n",
    "    key=cv2.waitKey(1)\r\n",
    "    if key==ord('q'):\r\n",
    "        break\r\n",
    "    if key==ord('c'):\r\n",
    "        #cv2.imwrite(name+\".jpg\",frame)\r\n",
    "        frames.append(gray.flatten())\r\n",
    "        output.append([name])\r\n",
    "\r\n",
    "X=np.array(frames)\r\n",
    "y=np.array(output)\r\n",
    "#now we had to horizontally stack them\r\n",
    "#here,Y is having name and X in corresponding having values of image\r\n",
    "#now if we want to add new data then we had to do vertical stacking\r\n",
    "data=np.hstack([y,X])\r\n",
    "\r\n",
    "f_name=\"face_data.npy\"\r\n",
    "\r\n",
    "#if we already having data then this will help to add new data vertically\r\n",
    "if os.path.exists(f_name):\r\n",
    "    old=np.load(f_name)\r\n",
    "    data=np.vstack([old,data])\r\n",
    "\r\n",
    "np.save(f_name,data)\r\n",
    "\r\n",
    "\r\n",
    "cap.release()\r\n",
    "cv2.destroyAllWindows()\r\n"
   ],
   "outputs": [],
   "metadata": {}
  },
  {
   "cell_type": "code",
   "execution_count": null,
   "source": [],
   "outputs": [],
   "metadata": {}
  }
 ],
 "metadata": {
  "orig_nbformat": 4,
  "language_info": {
   "name": "python",
   "version": "3.9.6",
   "mimetype": "text/x-python",
   "codemirror_mode": {
    "name": "ipython",
    "version": 3
   },
   "pygments_lexer": "ipython3",
   "nbconvert_exporter": "python",
   "file_extension": ".py"
  },
  "kernelspec": {
   "name": "python3",
   "display_name": "Python 3.9.6 64-bit"
  },
  "interpreter": {
   "hash": "ac59ebe37160ed0dfa835113d9b8498d9f09ceb179beaac4002f036b9467c963"
  }
 },
 "nbformat": 4,
 "nbformat_minor": 2
}